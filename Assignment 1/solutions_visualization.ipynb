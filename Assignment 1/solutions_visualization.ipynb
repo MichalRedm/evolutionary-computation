{
 "cells": [
  {
   "cell_type": "code",
   "execution_count": null,
   "id": "5ead041a",
   "metadata": {},
   "outputs": [],
   "source": [
    "import pandas as pd\n",
    "import matplotlib.pyplot as plt\n",
    "\n",
    "# --- Load the node data ---\n",
    "nodes_TSPA = pd.read_csv(\"data/TSPA.csv\", sep=';', header=None, names=['x', 'y', 'cost'])\n",
    "nodes_TSPA['id'] = range(0, len(nodes_TSPA))  # Assign IDs starting from 0\n",
    "\n",
    "nodes_TSPB = pd.read_csv(\"data/TSPB.csv\", sep=';', header=None, names=['x', 'y', 'cost'])\n",
    "nodes_TSPB['id'] = range(0, len(nodes_TSPA))  # Assign IDs starting from 0\n",
    "\n",
    "# --- Paste your solutions here ---\n",
    "solutions_TSPA = [\n",
    "    \"182 25 122 118 62 37 199 13 169 55 57 30 18 183 153 120 74 21 35 158 59 196 152 115 98 136 104 126 100 197 50 124 0 43 17 188 155 151 187 56 171 52 179 79 162 60 167 12 4 41 160 82 131 149 51 1 113 73 110 91 129 198 46 157 114 101 44 93 49 92 146 142 139 28 70 193 144 53 99 63 42 178 85 94 123 195 16 24 78 80 89 6 180 143 76 65 32 7 108 81\",\n",
    "    \"124 94 63 53 180 154 135 123 65 116 59 115 139 193 41 42 160 34 22 18 108 69 159 181 184 177 54 30 48 43 151 176 80 79 133 162 51 137 183 143 0 117 46 68 93 140 36 163 199 146 195 103 5 96 118 149 131 112 4 84 35 10 190 127 70 101 97 1 152 120 78 145 185 40 165 90 81 113 175 171 16 31 44 92 57 106 49 144 62 14 178 52 55 129 2 75 86 26 100 121\",\n",
    "    \"93 117 0 143 183 89 186 23 137 176 80 79 63 94 124 152 97 1 101 2 120 129 55 49 102 148 9 62 144 14 178 106 165 90 81 196 40 119 185 52 57 92 179 145 78 31 56 113 175 171 16 25 44 75 86 26 100 53 154 180 135 70 127 123 162 133 151 51 118 59 65 116 43 184 35 84 112 4 190 10 177 54 48 160 34 146 22 18 108 69 159 181 42 5 41 193 139 115 46 68\",\n",
    "    \"0 46 68 139 193 41 115 5 42 181 159 69 108 18 22 146 34 160 48 54 30 177 10 190 4 112 84 35 184 43 116 65 59 118 51 151 133 162 123 127 70 135 180 154 53 100 26 86 75 44 25 16 171 175 113 56 31 78 145 179 92 57 52 185 119 40 196 81 90 165 106 178 14 144 62 9 148 102 49 55 129 120 2 101 1 97 152 124 94 63 79 80 176 137 23 186 89 183 143 117\",\n",
    "]\n",
    "\n",
    "solutions_TSPB = [\n",
    "    \"111 108 155 105 12 113 21 10 162 163 118 74 43 13 70 192 119 173 9 149 82 98 51 77 44 1 151 145 80 156 32 140 146 158 78 120 68 179 34 6 84 190 177 58 56 106 40 117 174 138 184 164 81 130 159 48 92 8 101 29 15 115 67 26 27 132 38 42 75 160 185 109 95 69 147 196 116 136 143 45 124 152 36 5 83 137 194 2 195 54 37 35 79 22 183 33 141 18 53 65\",\n",
    "    \"16 1 117 31 54 193 190 80 175 5 177 36 61 141 77 153 163 176 113 166 86 185 179 94 47 148 20 60 28 140 183 152 18 62 124 106 143 0 29 109 35 33 138 11 168 169 188 70 3 145 15 155 189 34 55 95 130 99 22 66 154 57 172 194 103 127 89 137 114 165 187 146 81 111 8 104 21 82 144 160 139 182 25 121 90 122 135 63 40 107 100 133 10 147 6 134 51 98 118 74\",\n",
    "    \"121 51 90 191 147 6 188 169 132 13 70 3 15 145 195 168 139 11 138 33 160 29 0 109 35 143 106 124 62 18 55 34 170 152 183 140 4 149 28 20 60 148 47 94 66 179 185 22 99 130 95 86 166 194 176 113 103 127 89 163 187 153 81 77 141 91 36 61 21 82 111 8 104 177 5 45 142 78 175 162 80 190 136 73 54 31 193 117 198 156 1 16 27 38 135 122 63 100 107 40\",\n",
    "    \"85 51 121 131 135 63 122 133 10 90 191 147 6 188 169 132 13 161 70 3 15 145 195 168 29 109 35 0 111 81 153 163 180 176 86 95 128 106 143 124 62 18 55 34 170 152 183 140 4 149 28 20 60 148 47 94 66 22 130 99 185 179 172 166 194 113 114 137 103 89 127 165 187 146 77 97 141 91 36 61 175 78 142 45 5 177 82 87 21 8 104 56 144 160 33 138 182 11 139 134\",\n",
    "]\n",
    "\n",
    "# --- Visualization function ---\n",
    "def plot_solution(nodes_df, solution_str):\n",
    "    ids = list(map(int, solution_str.split()))\n",
    "    \n",
    "    # Rotate solution to start from smallest ID\n",
    "    min_id_index = ids.index(min(ids))\n",
    "    ids = ids[min_id_index:] + ids[:min_id_index]\n",
    "    \n",
    "    # Extract coordinates of selected nodes\n",
    "    sol_nodes = nodes_df[nodes_df['id'].isin(ids)]\n",
    "    sol_nodes = sol_nodes.set_index('id').loc[ids]\n",
    "    \n",
    "    # Plot all nodes\n",
    "    plt.figure(figsize=(8, 8))\n",
    "    plt.scatter(nodes_df['x'], nodes_df['y'], s=nodes_df['cost']/4, color='lightgray', alpha=0.5, label=\"All nodes\")\n",
    "    \n",
    "    # Plot the selected nodes\n",
    "    plt.scatter(sol_nodes['x'], sol_nodes['y'], s=sol_nodes['cost']/4, color='blue', label=\"Selected nodes\")\n",
    "    \n",
    "    # Plot path (closed loop)\n",
    "    x_coords = sol_nodes['x'].tolist() + [sol_nodes['x'].iloc[0]]\n",
    "    y_coords = sol_nodes['y'].tolist() + [sol_nodes['y'].iloc[0]]\n",
    "    plt.plot(x_coords, y_coords, color='red', linewidth=2, label=\"Solution path\")\n",
    "    \n",
    "    # Annotate node IDs\n",
    "    for node_id, row in sol_nodes.iterrows():\n",
    "        plt.text(row['x'], row['y'], str(node_id), fontsize=9, ha='center', va='center', color='white', weight='bold')\n",
    "    \n",
    "    # Display cycle order as text\n",
    "    cycle_text = \" → \".join(map(str, ids)) + f\" → {ids[0]}\"\n",
    "    plt.title(f\"Solution Cycle:\\n{cycle_text}\", fontsize=10, wrap=True)\n",
    "    \n",
    "    plt.legend()\n",
    "    plt.xlabel(\"x\")\n",
    "    plt.ylabel(\"y\")\n",
    "    plt.show()"
   ]
  },
  {
   "cell_type": "code",
   "execution_count": null,
   "id": "c529a2e5",
   "metadata": {},
   "outputs": [],
   "source": [
    "for sol in solutions_TSPA:\n",
    "    plot_solution(nodes_TSPA, sol)"
   ]
  },
  {
   "cell_type": "code",
   "execution_count": null,
   "id": "edf7226f",
   "metadata": {},
   "outputs": [],
   "source": [
    "for sol in solutions_TSPB:\n",
    "    plot_solution(nodes_TSPB, sol)"
   ]
  }
 ],
 "metadata": {
  "kernelspec": {
   "display_name": "Python 3",
   "language": "python",
   "name": "python3"
  },
  "language_info": {
   "codemirror_mode": {
    "name": "ipython",
    "version": 3
   },
   "file_extension": ".py",
   "mimetype": "text/x-python",
   "name": "python",
   "nbconvert_exporter": "python",
   "pygments_lexer": "ipython3",
   "version": "3.13.7"
  }
 },
 "nbformat": 4,
 "nbformat_minor": 5
}
